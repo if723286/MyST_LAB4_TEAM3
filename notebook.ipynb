{
 "cells": [
  {
   "cell_type": "markdown",
   "metadata": {},
   "source": [
    "<center> <img src=\"https://oci02.img.iteso.mx/Identidades-De-Instancia/ITESO/Logos%20ITESO/Logo-ITESO-Principal.jpg\" align=\"center\" width=\"650\" height=\"400\"/> </center>"
   ]
  },
  {
   "cell_type": "markdown",
   "metadata": {},
   "source": [
    "<center><font color=#555555><font size=6> Proyecto Final (Analisis Técnico) </font> <br> <br>\n",
    "    \n",
    "<center><font color=#555555><font size=5> MICROESTRUCTURA Y SISTEMAS DE TRADING </font> <br> <br> <br> <br>\n",
    "\n",
    "<center><font color=#555555><font size=5> B.Eng Financial Engineering </font> <br> <br> <br> <br>\n",
    "\n",
    "<center><font color=#555555><font size=6> I.F. Andrea Flores Fernández </font> <br> <br>\n",
    "\n",
    "<center><font color=#555555><font size=6> I.F. Tania Bell Nicholls </font> <br> <br>\n",
    "\n",
    "<center><font color=#555555><font size=6> I.F. Fer Guerra </font> <br> <br>\n",
    "\n",
    "<center><font color=#555555><font size=6> I.F. Blas Cesar Sanchez Barba </font> <br> <br>\n",
    "\n",
    "     \n",
    "<center> <font color= #555555> <font size = 4> May 2023 </a> | <font color= #555555> <font size = 4> Repository: <a href='https://github.com/if723286/MyST_LAB5_TEAM3'>Link</a></font>\n",
    "   "
   ]
  },
  {
   "cell_type": "markdown",
   "metadata": {},
   "source": [
    "<hr style=\"border:0.02in solid gray\"> </hr>"
   ]
  },
  {
   "cell_type": "markdown",
   "metadata": {},
   "source": [
    "<center> <font color= #555555> <font size = 6> LAB 5. Proyecto Final </font> <br> <br> <font color= #555555> <font size = 5>Análisis Técnico  </font>"
   ]
  },
  {
   "cell_type": "markdown",
   "metadata": {},
   "source": [
    "<hr style=\"border:0.02in solid gray\"> </hr>"
   ]
  },
  {
   "cell_type": "markdown",
   "metadata": {},
   "source": [
    "<br>"
   ]
  },
  {
   "cell_type": "markdown",
   "metadata": {},
   "source": [
    "<font color= #555555> <font size = 4> Abstract </font>"
   ]
  },
  {
   "cell_type": "markdown",
   "metadata": {},
   "source": [
    "La naturaleza del mercado de trading de divisas permite la utilización de herramientas para la generación de sistemas de trading. Este laboratorio se enfoca en generar un sistema de trading basado en un análisis técnico con el fin de generar inversiones basadas en señales. De esta manera se mejora la toma de decisiones al basarse en optimizaciones de funciones y del volumen, stop loss y take profit de cada operación."
   ]
  },
  {
   "cell_type": "markdown",
   "metadata": {},
   "source": [
    "<br>"
   ]
  },
  {
   "cell_type": "markdown",
   "metadata": {},
   "source": [
    "## <font color= #6B6B6B> 1. Introduction </font>"
   ]
  },
  {
   "cell_type": "markdown",
   "metadata": {},
   "source": [
    "<hr style=\"border:0.02in solid gray\"> </hr>"
   ]
  },
  {
   "cell_type": "markdown",
   "metadata": {},
   "source": [
    "A través de este laboratorio, se pretende utilizar el análisis técnico como herramienta para la generación de oportunidades de trading. Mediante la combinación de dos indicadores de análisis técnico, se generará un sistema de trading que optimice la cantidad invertida en divisas, al igual que el stop loss y el take profit.\n",
    "\n",
    "Se realizarán validaciones visuales del algoritmo de decisión generado con los indicadores y con la optimización de una función de utilidad.\n",
    "\n",
    "Finalmente, se generará una tabla comparativa de los resultados con 3 medidas de atribución al desempeño."
   ]
  },
  {
   "cell_type": "markdown",
   "metadata": {},
   "source": [
    "<br>"
   ]
  },
  {
   "cell_type": "markdown",
   "metadata": {},
   "source": [
    "## <font color= #6B6B6B> 2. Install/Load Packages and Depedencies </font>"
   ]
  },
  {
   "cell_type": "markdown",
   "metadata": {},
   "source": [
    "<hr style=\"border:0.02in solid gray\"> </hr>"
   ]
  },
  {
   "cell_type": "markdown",
   "metadata": {},
   "source": [
    "### <font color= #6B6B6B> 2.1 Python Packages </font> <font color= #555555>"
   ]
  },
  {
   "cell_type": "markdown",
   "metadata": {},
   "source": [
    "In order to run this notebook, it is necessary to have installed and/or have the _requirements.txt_ file with the following: "
   ]
  },
  {
   "cell_type": "markdown",
   "metadata": {},
   "source": [
    "- MetaTrader5\n",
    "- pandas\n",
    "- scipy\n",
    "- numpy\n",
    "- jupyter\n",
    "- pytz\n",
    "- datetime\n",
    "- ta"
   ]
  },
  {
   "cell_type": "markdown",
   "metadata": {},
   "source": [
    "### <font color= #6B6B6B> 2.2 Files Dependencies </font> <font color= #555555>"
   ]
  },
  {
   "cell_type": "markdown",
   "metadata": {},
   "source": [
    "The following are the file dependencies that are needed to run this notebook:"
   ]
  },
  {
   "cell_type": "markdown",
   "metadata": {},
   "source": [
    "- files/EURUSD.csv : Precios históricos de EURUSD\n",
    "- files/USDMXN.csv : Precios histróricos de USDMXN"
   ]
  },
  {
   "cell_type": "markdown",
   "metadata": {},
   "source": [
    "### <font color= #6E6E6E> 2.3 Install Packages</font>"
   ]
  },
  {
   "cell_type": "code",
   "execution_count": 1,
   "metadata": {},
   "outputs": [],
   "source": [
    "%%capture\n",
    "\n",
    "# Install all the pip packages in the requirements.txt\n",
    "import sys\n",
    "!{sys.executable} -m pip install -r requirements.txt"
   ]
  },
  {
   "cell_type": "code",
   "execution_count": 2,
   "metadata": {},
   "outputs": [],
   "source": [
    "import pandas as pd\n",
    "import numpy as np\n",
    "import data as dt\n",
    "import warnings\n",
    "warnings.filterwarnings('ignore')"
   ]
  },
  {
   "cell_type": "markdown",
   "metadata": {},
   "source": [
    "<br>"
   ]
  },
  {
   "cell_type": "markdown",
   "metadata": {},
   "source": [
    "## <font color= #6B6B6B> 3. Datos y validaciones </font>"
   ]
  },
  {
   "cell_type": "markdown",
   "metadata": {},
   "source": [
    "<hr style=\"border:0.02in solid gray\"> </hr>"
   ]
  },
  {
   "cell_type": "markdown",
   "metadata": {},
   "source": [
    "El capital inicial de este proyecto es de $ \\$100,000$ USD y el riesgo máximo por operación o la pérdida máxima por operación que se puede asumir es de $ \\$1,000$ USD.\n",
    "\n",
    "Los datos están dividos en dos secciones; periodo de entrenamiento y periodo de prueba. Las divisas elegidas para este laboratorio son EUR/USD y USD/MXN."
   ]
  },
  {
   "cell_type": "markdown",
   "metadata": {},
   "source": [
    "#### Periodo de entrenamiento: 01/ene/2020 - 01/ene/2021"
   ]
  },
  {
   "cell_type": "code",
   "execution_count": 3,
   "metadata": {},
   "outputs": [
    {
     "data": {
      "text/html": [
       "<div>\n",
       "<style scoped>\n",
       "    .dataframe tbody tr th:only-of-type {\n",
       "        vertical-align: middle;\n",
       "    }\n",
       "\n",
       "    .dataframe tbody tr th {\n",
       "        vertical-align: top;\n",
       "    }\n",
       "\n",
       "    .dataframe thead th {\n",
       "        text-align: right;\n",
       "    }\n",
       "</style>\n",
       "<table border=\"1\" class=\"dataframe\">\n",
       "  <thead>\n",
       "    <tr style=\"text-align: right;\">\n",
       "      <th></th>\n",
       "      <th>time</th>\n",
       "      <th>open</th>\n",
       "      <th>high</th>\n",
       "      <th>low</th>\n",
       "      <th>close</th>\n",
       "      <th>tick_volume</th>\n",
       "      <th>spread</th>\n",
       "      <th>real_volume</th>\n",
       "    </tr>\n",
       "  </thead>\n",
       "  <tbody>\n",
       "    <tr>\n",
       "      <th>2110</th>\n",
       "      <td>2020-01-02 00:00:00</td>\n",
       "      <td>1.12080</td>\n",
       "      <td>1.12140</td>\n",
       "      <td>1.11628</td>\n",
       "      <td>1.11712</td>\n",
       "      <td>36043</td>\n",
       "      <td>50</td>\n",
       "      <td>0</td>\n",
       "    </tr>\n",
       "    <tr>\n",
       "      <th>2111</th>\n",
       "      <td>2020-01-02 06:00:00</td>\n",
       "      <td>1.12124</td>\n",
       "      <td>1.12135</td>\n",
       "      <td>1.12117</td>\n",
       "      <td>1.12135</td>\n",
       "      <td>2963</td>\n",
       "      <td>15</td>\n",
       "      <td>444450000</td>\n",
       "    </tr>\n",
       "    <tr>\n",
       "      <th>2112</th>\n",
       "      <td>2020-01-02 06:15:00</td>\n",
       "      <td>1.12135</td>\n",
       "      <td>1.12136</td>\n",
       "      <td>1.12112</td>\n",
       "      <td>1.12114</td>\n",
       "      <td>3639</td>\n",
       "      <td>15</td>\n",
       "      <td>545850000</td>\n",
       "    </tr>\n",
       "    <tr>\n",
       "      <th>2113</th>\n",
       "      <td>2020-01-02 06:30:00</td>\n",
       "      <td>1.12114</td>\n",
       "      <td>1.12115</td>\n",
       "      <td>1.12082</td>\n",
       "      <td>1.12090</td>\n",
       "      <td>3489</td>\n",
       "      <td>15</td>\n",
       "      <td>523350000</td>\n",
       "    </tr>\n",
       "    <tr>\n",
       "      <th>2114</th>\n",
       "      <td>2020-01-02 06:45:00</td>\n",
       "      <td>1.12090</td>\n",
       "      <td>1.12090</td>\n",
       "      <td>1.12002</td>\n",
       "      <td>1.12005</td>\n",
       "      <td>4789</td>\n",
       "      <td>15</td>\n",
       "      <td>718350000</td>\n",
       "    </tr>\n",
       "  </tbody>\n",
       "</table>\n",
       "</div>"
      ],
      "text/plain": [
       "                    time     open     high      low    close  tick_volume  \\\n",
       "2110 2020-01-02 00:00:00  1.12080  1.12140  1.11628  1.11712        36043   \n",
       "2111 2020-01-02 06:00:00  1.12124  1.12135  1.12117  1.12135         2963   \n",
       "2112 2020-01-02 06:15:00  1.12135  1.12136  1.12112  1.12114         3639   \n",
       "2113 2020-01-02 06:30:00  1.12114  1.12115  1.12082  1.12090         3489   \n",
       "2114 2020-01-02 06:45:00  1.12090  1.12090  1.12002  1.12005         4789   \n",
       "\n",
       "      spread  real_volume  \n",
       "2110      50            0  \n",
       "2111      15    444450000  \n",
       "2112      15    545850000  \n",
       "2113      15    523350000  \n",
       "2114      15    718350000  "
      ]
     },
     "execution_count": 3,
     "metadata": {},
     "output_type": "execute_result"
    }
   ],
   "source": [
    "eurusd_train = dt.eurusd_train\n",
    "eurusd_train.drop(columns=eurusd_train.columns[0], axis=1,  inplace=True)\n",
    "eurusd_train.head()"
   ]
  },
  {
   "cell_type": "code",
   "execution_count": 4,
   "metadata": {},
   "outputs": [
    {
     "data": {
      "text/html": [
       "<div>\n",
       "<style scoped>\n",
       "    .dataframe tbody tr th:only-of-type {\n",
       "        vertical-align: middle;\n",
       "    }\n",
       "\n",
       "    .dataframe tbody tr th {\n",
       "        vertical-align: top;\n",
       "    }\n",
       "\n",
       "    .dataframe thead th {\n",
       "        text-align: right;\n",
       "    }\n",
       "</style>\n",
       "<table border=\"1\" class=\"dataframe\">\n",
       "  <thead>\n",
       "    <tr style=\"text-align: right;\">\n",
       "      <th></th>\n",
       "      <th>time</th>\n",
       "      <th>open</th>\n",
       "      <th>high</th>\n",
       "      <th>low</th>\n",
       "      <th>close</th>\n",
       "      <th>tick_volume</th>\n",
       "      <th>spread</th>\n",
       "      <th>real_volume</th>\n",
       "    </tr>\n",
       "  </thead>\n",
       "  <tbody>\n",
       "    <tr>\n",
       "      <th>2254</th>\n",
       "      <td>2020-01-02 00:00:00</td>\n",
       "      <td>18.89565</td>\n",
       "      <td>18.92847</td>\n",
       "      <td>18.82735</td>\n",
       "      <td>18.83095</td>\n",
       "      <td>50071</td>\n",
       "      <td>0</td>\n",
       "      <td>0</td>\n",
       "    </tr>\n",
       "    <tr>\n",
       "      <th>2255</th>\n",
       "      <td>2020-01-02 06:00:00</td>\n",
       "      <td>18.89660</td>\n",
       "      <td>18.89867</td>\n",
       "      <td>18.89565</td>\n",
       "      <td>18.89837</td>\n",
       "      <td>182</td>\n",
       "      <td>646</td>\n",
       "      <td>18200000</td>\n",
       "    </tr>\n",
       "    <tr>\n",
       "      <th>2256</th>\n",
       "      <td>2020-01-02 06:15:00</td>\n",
       "      <td>18.89837</td>\n",
       "      <td>18.90363</td>\n",
       "      <td>18.89767</td>\n",
       "      <td>18.90207</td>\n",
       "      <td>375</td>\n",
       "      <td>530</td>\n",
       "      <td>37500000</td>\n",
       "    </tr>\n",
       "    <tr>\n",
       "      <th>2257</th>\n",
       "      <td>2020-01-02 06:30:00</td>\n",
       "      <td>18.90207</td>\n",
       "      <td>18.90765</td>\n",
       "      <td>18.90187</td>\n",
       "      <td>18.90637</td>\n",
       "      <td>241</td>\n",
       "      <td>536</td>\n",
       "      <td>24100000</td>\n",
       "    </tr>\n",
       "    <tr>\n",
       "      <th>2258</th>\n",
       "      <td>2020-01-02 06:45:00</td>\n",
       "      <td>18.90637</td>\n",
       "      <td>18.91307</td>\n",
       "      <td>18.90637</td>\n",
       "      <td>18.91017</td>\n",
       "      <td>531</td>\n",
       "      <td>576</td>\n",
       "      <td>53100000</td>\n",
       "    </tr>\n",
       "  </tbody>\n",
       "</table>\n",
       "</div>"
      ],
      "text/plain": [
       "                    time      open      high       low     close  tick_volume  \\\n",
       "2254 2020-01-02 00:00:00  18.89565  18.92847  18.82735  18.83095        50071   \n",
       "2255 2020-01-02 06:00:00  18.89660  18.89867  18.89565  18.89837          182   \n",
       "2256 2020-01-02 06:15:00  18.89837  18.90363  18.89767  18.90207          375   \n",
       "2257 2020-01-02 06:30:00  18.90207  18.90765  18.90187  18.90637          241   \n",
       "2258 2020-01-02 06:45:00  18.90637  18.91307  18.90637  18.91017          531   \n",
       "\n",
       "      spread  real_volume  \n",
       "2254       0            0  \n",
       "2255     646     18200000  \n",
       "2256     530     37500000  \n",
       "2257     536     24100000  \n",
       "2258     576     53100000  "
      ]
     },
     "execution_count": 4,
     "metadata": {},
     "output_type": "execute_result"
    }
   ],
   "source": [
    "usdmxn_train = dt.usdmxn_train\n",
    "usdmxn_train.drop(columns=usdmxn_train.columns[0], axis=1,  inplace=True)\n",
    "usdmxn_train.head()"
   ]
  },
  {
   "cell_type": "markdown",
   "metadata": {},
   "source": [
    "#### Periodo de prueba: 01/Feb/2021 - 01/Feb/2022"
   ]
  },
  {
   "cell_type": "code",
   "execution_count": 5,
   "metadata": {},
   "outputs": [
    {
     "data": {
      "text/html": [
       "<div>\n",
       "<style scoped>\n",
       "    .dataframe tbody tr th:only-of-type {\n",
       "        vertical-align: middle;\n",
       "    }\n",
       "\n",
       "    .dataframe tbody tr th {\n",
       "        vertical-align: top;\n",
       "    }\n",
       "\n",
       "    .dataframe thead th {\n",
       "        text-align: right;\n",
       "    }\n",
       "</style>\n",
       "<table border=\"1\" class=\"dataframe\">\n",
       "  <thead>\n",
       "    <tr style=\"text-align: right;\">\n",
       "      <th></th>\n",
       "      <th>time</th>\n",
       "      <th>open</th>\n",
       "      <th>high</th>\n",
       "      <th>low</th>\n",
       "      <th>close</th>\n",
       "      <th>tick_volume</th>\n",
       "      <th>spread</th>\n",
       "      <th>real_volume</th>\n",
       "    </tr>\n",
       "  </thead>\n",
       "  <tbody>\n",
       "    <tr>\n",
       "      <th>27007</th>\n",
       "      <td>2021-01-04 00:00:00</td>\n",
       "      <td>1.22379</td>\n",
       "      <td>1.22384</td>\n",
       "      <td>1.22291</td>\n",
       "      <td>1.22293</td>\n",
       "      <td>668</td>\n",
       "      <td>15</td>\n",
       "      <td>100200000</td>\n",
       "    </tr>\n",
       "    <tr>\n",
       "      <th>27008</th>\n",
       "      <td>2021-01-04 00:15:00</td>\n",
       "      <td>1.22293</td>\n",
       "      <td>1.22370</td>\n",
       "      <td>1.22293</td>\n",
       "      <td>1.22340</td>\n",
       "      <td>520</td>\n",
       "      <td>17</td>\n",
       "      <td>78000000</td>\n",
       "    </tr>\n",
       "    <tr>\n",
       "      <th>27009</th>\n",
       "      <td>2021-01-04 00:30:00</td>\n",
       "      <td>1.22340</td>\n",
       "      <td>1.22384</td>\n",
       "      <td>1.22322</td>\n",
       "      <td>1.22343</td>\n",
       "      <td>927</td>\n",
       "      <td>15</td>\n",
       "      <td>139050000</td>\n",
       "    </tr>\n",
       "    <tr>\n",
       "      <th>27010</th>\n",
       "      <td>2021-01-04 00:45:00</td>\n",
       "      <td>1.22343</td>\n",
       "      <td>1.22353</td>\n",
       "      <td>1.22325</td>\n",
       "      <td>1.22334</td>\n",
       "      <td>309</td>\n",
       "      <td>15</td>\n",
       "      <td>46350000</td>\n",
       "    </tr>\n",
       "    <tr>\n",
       "      <th>27011</th>\n",
       "      <td>2021-01-04 01:00:00</td>\n",
       "      <td>1.22334</td>\n",
       "      <td>1.22410</td>\n",
       "      <td>1.22302</td>\n",
       "      <td>1.22391</td>\n",
       "      <td>6232</td>\n",
       "      <td>15</td>\n",
       "      <td>934800000</td>\n",
       "    </tr>\n",
       "  </tbody>\n",
       "</table>\n",
       "</div>"
      ],
      "text/plain": [
       "                     time     open     high      low    close  tick_volume  \\\n",
       "27007 2021-01-04 00:00:00  1.22379  1.22384  1.22291  1.22293          668   \n",
       "27008 2021-01-04 00:15:00  1.22293  1.22370  1.22293  1.22340          520   \n",
       "27009 2021-01-04 00:30:00  1.22340  1.22384  1.22322  1.22343          927   \n",
       "27010 2021-01-04 00:45:00  1.22343  1.22353  1.22325  1.22334          309   \n",
       "27011 2021-01-04 01:00:00  1.22334  1.22410  1.22302  1.22391         6232   \n",
       "\n",
       "       spread  real_volume  \n",
       "27007      15    100200000  \n",
       "27008      17     78000000  \n",
       "27009      15    139050000  \n",
       "27010      15     46350000  \n",
       "27011      15    934800000  "
      ]
     },
     "execution_count": 5,
     "metadata": {},
     "output_type": "execute_result"
    }
   ],
   "source": [
    "eurusd_test = dt.eurusd_test\n",
    "eurusd_test.drop(columns=eurusd_test.columns[0], axis=1,  inplace=True)\n",
    "eurusd_test.head()"
   ]
  },
  {
   "cell_type": "code",
   "execution_count": 6,
   "metadata": {
    "scrolled": true
   },
   "outputs": [
    {
     "data": {
      "text/html": [
       "<div>\n",
       "<style scoped>\n",
       "    .dataframe tbody tr th:only-of-type {\n",
       "        vertical-align: middle;\n",
       "    }\n",
       "\n",
       "    .dataframe tbody tr th {\n",
       "        vertical-align: top;\n",
       "    }\n",
       "\n",
       "    .dataframe thead th {\n",
       "        text-align: right;\n",
       "    }\n",
       "</style>\n",
       "<table border=\"1\" class=\"dataframe\">\n",
       "  <thead>\n",
       "    <tr style=\"text-align: right;\">\n",
       "      <th></th>\n",
       "      <th>time</th>\n",
       "      <th>open</th>\n",
       "      <th>high</th>\n",
       "      <th>low</th>\n",
       "      <th>close</th>\n",
       "      <th>tick_volume</th>\n",
       "      <th>spread</th>\n",
       "      <th>real_volume</th>\n",
       "    </tr>\n",
       "  </thead>\n",
       "  <tbody>\n",
       "    <tr>\n",
       "      <th>27085</th>\n",
       "      <td>2021-01-04 00:00:00</td>\n",
       "      <td>19.89975</td>\n",
       "      <td>19.97963</td>\n",
       "      <td>19.70202</td>\n",
       "      <td>19.89975</td>\n",
       "      <td>118631</td>\n",
       "      <td>0</td>\n",
       "      <td>2100000</td>\n",
       "    </tr>\n",
       "    <tr>\n",
       "      <th>27086</th>\n",
       "      <td>2021-01-04 00:15:00</td>\n",
       "      <td>19.89725</td>\n",
       "      <td>19.89750</td>\n",
       "      <td>19.89500</td>\n",
       "      <td>19.89500</td>\n",
       "      <td>75</td>\n",
       "      <td>2500</td>\n",
       "      <td>7500000</td>\n",
       "    </tr>\n",
       "    <tr>\n",
       "      <th>27087</th>\n",
       "      <td>2021-01-04 00:30:00</td>\n",
       "      <td>19.89500</td>\n",
       "      <td>19.89750</td>\n",
       "      <td>19.89200</td>\n",
       "      <td>19.89301</td>\n",
       "      <td>65</td>\n",
       "      <td>2500</td>\n",
       "      <td>6500000</td>\n",
       "    </tr>\n",
       "    <tr>\n",
       "      <th>27088</th>\n",
       "      <td>2021-01-04 00:45:00</td>\n",
       "      <td>19.89301</td>\n",
       "      <td>19.89307</td>\n",
       "      <td>19.89301</td>\n",
       "      <td>19.89307</td>\n",
       "      <td>52</td>\n",
       "      <td>2500</td>\n",
       "      <td>5200000</td>\n",
       "    </tr>\n",
       "    <tr>\n",
       "      <th>27089</th>\n",
       "      <td>2021-01-04 01:00:00</td>\n",
       "      <td>19.89307</td>\n",
       "      <td>19.89504</td>\n",
       "      <td>19.84544</td>\n",
       "      <td>19.85333</td>\n",
       "      <td>1203</td>\n",
       "      <td>2485</td>\n",
       "      <td>120300000</td>\n",
       "    </tr>\n",
       "  </tbody>\n",
       "</table>\n",
       "</div>"
      ],
      "text/plain": [
       "                     time      open      high       low     close  \\\n",
       "27085 2021-01-04 00:00:00  19.89975  19.97963  19.70202  19.89975   \n",
       "27086 2021-01-04 00:15:00  19.89725  19.89750  19.89500  19.89500   \n",
       "27087 2021-01-04 00:30:00  19.89500  19.89750  19.89200  19.89301   \n",
       "27088 2021-01-04 00:45:00  19.89301  19.89307  19.89301  19.89307   \n",
       "27089 2021-01-04 01:00:00  19.89307  19.89504  19.84544  19.85333   \n",
       "\n",
       "       tick_volume  spread  real_volume  \n",
       "27085       118631       0      2100000  \n",
       "27086           75    2500      7500000  \n",
       "27087           65    2500      6500000  \n",
       "27088           52    2500      5200000  \n",
       "27089         1203    2485    120300000  "
      ]
     },
     "execution_count": 6,
     "metadata": {},
     "output_type": "execute_result"
    }
   ],
   "source": [
    "usdmxn_test = dt.usdmxn_test\n",
    "usdmxn_test.drop(columns=usdmxn_test.columns[0], axis=1,  inplace=True)\n",
    "usdmxn_test.head()"
   ]
  },
  {
   "cell_type": "markdown",
   "metadata": {},
   "source": [
    "<br>"
   ]
  },
  {
   "cell_type": "markdown",
   "metadata": {},
   "source": [
    "## <font color= #6B6B6B> 3. Aspectos financieros </font>"
   ]
  },
  {
   "cell_type": "markdown",
   "metadata": {},
   "source": [
    "<hr style=\"border:0.02in solid gray\"> </hr>"
   ]
  },
  {
   "cell_type": "markdown",
   "metadata": {},
   "source": [
    "###  <font color= #6B6B6B> Sistema de trading</font>"
   ]
  },
  {
   "cell_type": "markdown",
   "metadata": {},
   "source": [
    "Un sistema de trading es un conjunto de reglas que le indican al trader cuándo operar. Se basan en análisis técnico para poder determinar el momento más rentable para entrar al mercado y cuándo es el mejor momento para salir. El sistema también puede indicarle cuánto debe operar en cada transacción. \n",
    "\n",
    "Los sistemas de trading son la base para las inversiones ya que permiten determinar cuándo abrir una posición, su tamaño y el tiempo que deberá permanecer abierta. Incluso pueden definir la gestión de la posición mientras se desarrolla, las técnicas de control de riesgo, los cálculos de gestión de capital, la diversificación del portafolio, entre otros aspectos.\n",
    "\n",
    "PONER CUATRO CRITERIOS DE TRADING ??!!\n",
    "\n",
    "Los sistemas pueden ser manuales o automatizados y se basan en diferentes técnicas y metodologías de análisis de mercado. Estas técnicas pueden basarse en el análisis técnico, análisis fundamental o análisis cuantitativo. En este laboratorio se realiza un análisis técnico.\n"
   ]
  },
  {
   "cell_type": "markdown",
   "metadata": {},
   "source": [
    "- Hacer 5 validaciones visuales del algoritmo de decision utilizando estudios técnicos.\n",
    "\n",
    "- Apoyar en aspectos computacionales.\n",
    "\n",
    "- Apoyar en aspectos estadísticos.\n",
    "\n",
    "- Realizar una tabla comparativa de los resultados con 3 MAD que propongas, utilizando los datos de la evolución del capital acumulado, tanto de la configuración de parámetros que se eligió del periodo de entrenamiento, como para los resultados en el periodo de prueba con los parámetros de la configuración elegida del periodo de entrenamiento (con los mismos datos pero en periodos diferentes)."
   ]
  },
  {
   "cell_type": "markdown",
   "metadata": {},
   "source": [
    "###  <font color= #6B6B6B> Aspectos Estadísticos</font>"
   ]
  },
  {
   "cell_type": "markdown",
   "metadata": {},
   "source": [
    "#### Bandas de Bollinger"
   ]
  },
  {
   "cell_type": "markdown",
   "metadata": {},
   "source": [
    "Las bandas de bollinger son una herramienta de análisis técnico definidas por un conjunto de líneas de tendencia. Se grafican dos desviaciones estándares, tanto positivas como negativas, de una media móvil simple del precio de un valor. Fueron desarrolladas por John Bollinger para proporcionar a los traders una manera de identificar los periodos de alta y baja probabilidad de cambio.\n",
    "\n",
    "La franja entre las bandas superior e inferior contiene, estadísticamente, casi un 90% de las posibles variaciones del precio. Las bandas son utilizadas para identificar cambios de tendencia en el precio e identificar fortaleza o debilidad en la misma."
   ]
  },
  {
   "cell_type": "markdown",
   "metadata": {},
   "source": [
    "#### Relative Strength Index (RSI)"
   ]
  },
  {
   "cell_type": "markdown",
   "metadata": {},
   "source": [
    "El RSI mide el impulso de los cambios en el precio de un activo para evaluar si el precio de dicho activo está sobrevendido o sobrecomprado. Este indicador es parte de la categoría de los osciladores y fue creado por J. Welles Wilder Jr.\n",
    "\n",
    "El indicador proporciona una medida de qué tan bien se está comportando el precio de un activo frente a sí mismo. Con un nivel de RSI por encima de 70 significa que está sobrevalorado y un nivel debajo de 30 indica que un activo está sobrevendido.\n",
    "\n",
    "El RSI se calcula mediante la siguiente fórmula:\n",
    "\n",
    "$RSI=100-\\frac{100}{1+RS}$\n",
    "\n",
    "en donde\n",
    "\n",
    "$RS=\\frac{Avg Up}{Avg Down}$\n",
    "\n",
    "siendo:\n",
    "\n",
    "$Avg Up$ el promedio de las variaciones al alza del precio en el periodo N y $Avg Down$ el promedio de las variaciones a la baja del precio en el periodo N.\n",
    "\n",
    "Habitualmente, se considera un periodo de 14 para el cálculo del RSI.\n",
    "\n",
    "Para obtener señales de trading con el RSI se puede hacer mediante la identificación de divergencias o mediante el análisis de formaciones de doble fondo."
   ]
  },
  {
   "cell_type": "markdown",
   "metadata": {},
   "source": [
    "#### Generación de señal de compra o de venta"
   ]
  },
  {
   "cell_type": "markdown",
   "metadata": {},
   "source": [
    "Para este laboratorio, la señal de compra o de venta se generó basada en las bandas de bollinger y el RSI. Si estos dos indicadores marcan una compra, se realiza la compra y lo mismo va para la venta. Pero si los indicadores tienen señales distintas, se respeta la señal generada por las bandas de bollinger"
   ]
  },
  {
   "cell_type": "markdown",
   "metadata": {},
   "source": [
    "- Hacer una propuesta al equipo de entre 1 y 3 estudios técnicos.\n",
    "\n",
    "- Hacer propuesta de algoritmo a detalle con uso de datos, para el criterio 2: Generación de señal de compra o de venta.\n",
    "\n",
    "- Incluir definiciones cortas de cada estudio, su fórmula (En LaTeX dentro del notebook).\n",
    "\n",
    "- Hacer 5 validaciones visuales del algoritmo de decision utilizando estudios técnicos.\n",
    "\n",
    "- Apoyar en aspectos computacionales.\n",
    "\n",
    "- Apoyar en aspectos financieros."
   ]
  },
  {
   "cell_type": "code",
   "execution_count": null,
   "metadata": {},
   "outputs": [],
   "source": [
    "# Here you include content from data conceptual, statistical and visual description"
   ]
  },
  {
   "cell_type": "markdown",
   "metadata": {},
   "source": [
    "###  <font color= #6B6B6B> 3.3 Aspectos Computacionales</font>\n",
    "\n",
    "1.  Función de utilidad:\n",
    "\n",
    "2. Parámetro a optimizar:\n",
    "\n",
    "3. Espacio de búsqueda:\n",
    "\n",
    "4. Tiempo de búsqueda exhaustiva:\n",
    "\n",
    "5. Método de optimización:\n",
    "\n",
    "6. Gráfica de convergencia:\n"
   ]
  },
  {
   "cell_type": "code",
   "execution_count": null,
   "metadata": {},
   "outputs": [],
   "source": [
    "# Here you include content from data conceptual, statistical and visual description"
   ]
  },
  {
   "cell_type": "markdown",
   "metadata": {},
   "source": [
    "# <font color= #6B6B6B> <font size = 6> 5. Aplicacion las reglas para la toma de decisiones en df_decisiones con los datos de prueba. </font>"
   ]
  },
  {
   "cell_type": "markdown",
   "metadata": {},
   "source": [
    "Con los resultados anteriores que encontraste para los parámetros de la estrategia de trading,  aplica las reglas para la toma de decisiones en df_decisiones con los datos de prueba.\n",
    "\n",
    "- Elige 1 resultado de optimización (Periodo de optimizacion)\n",
    "- Grafica la evolucion de capital en este periodo (Grafica Evolucion de Capital (Linea)) \n",
    "- Imprime los datos calculados en el df_backtest.\n",
    "- Con la misma configuración de parámetros encontrada en el paso anterior, usa los datos del periodo de prueba\n",
    "- Utiliza sus parámetros: Volumen, TakeProfit, StopLoss\n",
    "- Grafica la evlucion de capital en este periodo (Grafica Evolucion de Capital (Linea)) \n",
    "-- Imprime los datos calculados en el df_prueba."
   ]
  },
  {
   "cell_type": "code",
   "execution_count": null,
   "metadata": {},
   "outputs": [],
   "source": [
    "# Here you include content from data conceptual, statistical and visual description"
   ]
  },
  {
   "cell_type": "markdown",
   "metadata": {},
   "source": [
    "<br>"
   ]
  },
  {
   "cell_type": "markdown",
   "metadata": {},
   "source": [
    "# <font color= #6B6B6B> <font size = 6> 5. Conclusions </font>"
   ]
  },
  {
   "cell_type": "markdown",
   "metadata": {},
   "source": [
    "# <font color= #6B6B6B> <font size = 6> 6. References </font>"
   ]
  },
  {
   "cell_type": "markdown",
   "metadata": {},
   "source": [
    "<hr style=\"border:0.02in solid gray\"> </hr>"
   ]
  },
  {
   "cell_type": "markdown",
   "metadata": {},
   "source": [
    "Investopedia. (2021). Trading System. Recuperado el 3 de mayo de 2023, de https://www.investopedia.com/terms/t/tradingsystem.asp\n",
    "\n",
    "Trading Education. (s.f.). What is a Trading System? Recuperado el 3 de mayo de 2023, de https://trading-education.com/what-is-a-trading-system\n",
    "\n",
    "Nextmarkets. (s.f.). Sistemas de trading. Nextmarkets. Recuperado el 3 de mayo de 2023, de https://www.nextmarkets.com/es/trading/formacion/sistemas-trading\n",
    "\n",
    "Novatos Trading Club. (s.f.). Sistema de trading ¿qué es eso? Recuperado el 3 de mayo de 2023, de https://www.novatostradingclub.com/principiantes/sistema-de-trading-%C2%BFque-es-eso/\n",
    "\n",
    "\n",
    "Avatrade. (s.f.). Bandas de Bollinger. AvaTrade. Recuperado el 3 de mayo de 2023, de https://www.avatrade.es/educacion/trading-para-principiantes/bandas-de-bollinger\n",
    "\n",
    "Avatrade. (s.f.). Estrategias de trading RSI. AvaTrade. Recuperado el 4 de mayo de 2023, de https://www.avatrade.es/educacion/professional-trading-strategies/rsi-trading-strategies"
   ]
  },
  {
   "cell_type": "markdown",
   "metadata": {},
   "source": [
    "<br>"
   ]
  }
 ],
 "metadata": {
  "kernelspec": {
   "display_name": "Python 3 (ipykernel)",
   "language": "python",
   "name": "python3"
  },
  "language_info": {
   "codemirror_mode": {
    "name": "ipython",
    "version": 3
   },
   "file_extension": ".py",
   "mimetype": "text/x-python",
   "name": "python",
   "nbconvert_exporter": "python",
   "pygments_lexer": "ipython3",
   "version": "3.9.13"
  }
 },
 "nbformat": 4,
 "nbformat_minor": 4
}
