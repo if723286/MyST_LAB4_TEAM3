{
 "cells": [
  {
   "attachments": {},
   "cell_type": "markdown",
   "metadata": {},
   "source": [
    "<center> <img src=\"https://oci02.img.iteso.mx/Identidades-De-Instancia/ITESO/Logos%20ITESO/Logo-ITESO-Principal.jpg\" align=\"center\" width=\"650\" height=\"400\"/> </center>"
   ]
  },
  {
   "attachments": {},
   "cell_type": "markdown",
   "metadata": {},
   "source": [
    "<center><font color=#555555><font size=6> Proyecto Final (Analisis Técnico) </font> <br> <br>\n",
    "    \n",
    "<center><font color=#555555><font size=5> MICROESTRUCTURA Y SISTEMAS DE TRADING </font> <br> <br> <br> <br>\n",
    "\n",
    "<center><font color=#555555><font size=5> B.Eng Financial Engineering </font> <br> <br> <br> <br>\n",
    "\n",
    "<center><font color=#555555><font size=6> I.F. Andrea Flores Fernández </font> <br> <br>\n",
    "\n",
    "<center><font color=#555555><font size=6> I.F. Tania Bell Nicholls </font> <br> <br>\n",
    "\n",
    "<center><font color=#555555><font size=6> I.F. Fernando Guerra Muro </font> <br> <br>\n",
    "\n",
    "<center><font color=#555555><font size=6> I.F. Blas Cesar Sanchez Barba </font> <br> <br>\n",
    "\n",
    "     \n",
    "<center> <font color= #555555> <font size = 4> May 2023 </a> | <font color= #555555> <font size = 4> Repository: <a href='https://github.com/if723286/MyST_LAB5_TEAM3'>Link</a></font>\n",
    "   "
   ]
  },
  {
   "attachments": {},
   "cell_type": "markdown",
   "metadata": {},
   "source": [
    "<hr style=\"border:0.02in solid gray\"> </hr>"
   ]
  },
  {
   "attachments": {},
   "cell_type": "markdown",
   "metadata": {},
   "source": [
    "<center> <font color= #555555> <font size = 6> LAB 5. Proyecto Final </font> <br> <br> <font color= #555555> <font size = 5>Análisis Técnico  </font>"
   ]
  },
  {
   "attachments": {},
   "cell_type": "markdown",
   "metadata": {},
   "source": [
    "<hr style=\"border:0.02in solid gray\"> </hr>"
   ]
  },
  {
   "attachments": {},
   "cell_type": "markdown",
   "metadata": {},
   "source": [
    "<br>"
   ]
  },
  {
   "attachments": {},
   "cell_type": "markdown",
   "metadata": {},
   "source": [
    "<font color= #555555> <font size = 4> Abstract </font>"
   ]
  },
  {
   "attachments": {},
   "cell_type": "markdown",
   "metadata": {},
   "source": [
    "El análisis técnico se basa en la premisa de que patrones del pasado tienen probabilidad de volver a repetirse en el futuro. Aunque es cierto que es imposible predecir hacía dónde se moverá el mercado, también es cierto que si tu % de efectividad es lo suficientemente bueno, puedes ser rentable. Incluso si tu % de efectividad es bajo pero la relación riesgo-beneficio es alta, puedes tener una efectividad baja y aún así ser rentable.\n",
    "\n",
    "La naturaleza del mercado de trading de divisas permite la utilización de herramientas para la generación de sistemas de trading. Este laboratorio se enfoca en generar un sistema de trading basado en un análisis técnico con el fin de generar inversiones basadas en señales. De esta manera se mejora la toma de decisiones al basarse en optimizaciones de funciones y del volumen, stop loss y take profit de cada operación.\n"
   ]
  },
  {
   "attachments": {},
   "cell_type": "markdown",
   "metadata": {},
   "source": [
    "<br>"
   ]
  },
  {
   "attachments": {},
   "cell_type": "markdown",
   "metadata": {},
   "source": [
    "## <font color= #6B6B6B> 1. Introduction </font>"
   ]
  },
  {
   "attachments": {},
   "cell_type": "markdown",
   "metadata": {},
   "source": [
    "<hr style=\"border:0.02in solid gray\"> </hr>"
   ]
  },
  {
   "attachments": {},
   "cell_type": "markdown",
   "metadata": {},
   "source": [
    "A través de este laboratorio, se pretende utilizar el análisis técnico como herramienta para la generación de oportunidades de trading. Mediante la combinación de dos indicadores de análisis técnico, se generará un sistema de trading que optimice la cantidad invertida en divisas, al igual que el stop loss y el take profit.\n",
    "\n",
    "Se realizarán validaciones visuales del algoritmo de decisión generado con los indicadores y con la optimización de una función de utilidad.\n",
    "\n",
    "Finalmente, se generará una tabla comparativa de los resultados con 3 medidas de atribución al desempeño."
   ]
  },
  {
   "attachments": {},
   "cell_type": "markdown",
   "metadata": {},
   "source": [
    "<br>"
   ]
  },
  {
   "attachments": {},
   "cell_type": "markdown",
   "metadata": {},
   "source": [
    "## <font color= #6B6B6B> 2. Install/Load Packages and Depedencies </font>"
   ]
  },
  {
   "attachments": {},
   "cell_type": "markdown",
   "metadata": {},
   "source": [
    "<hr style=\"border:0.02in solid gray\"> </hr>"
   ]
  },
  {
   "attachments": {},
   "cell_type": "markdown",
   "metadata": {},
   "source": [
    "### <font color= #6B6B6B> 2.1 Python Packages </font> <font color= #555555>"
   ]
  },
  {
   "attachments": {},
   "cell_type": "markdown",
   "metadata": {},
   "source": [
    "In order to run this notebook, it is necessary to have installed and/or have the _requirements.txt_ file with the following: "
   ]
  },
  {
   "attachments": {},
   "cell_type": "markdown",
   "metadata": {},
   "source": [
    "- MetaTrader5\n",
    "- pandas\n",
    "- scipy\n",
    "- numpy\n",
    "- jupyter\n",
    "- pytz\n",
    "- datetime\n",
    "- ta"
   ]
  },
  {
   "attachments": {},
   "cell_type": "markdown",
   "metadata": {},
   "source": [
    "### <font color= #6B6B6B> 2.2 Files Dependencies </font> <font color= #555555>"
   ]
  },
  {
   "attachments": {},
   "cell_type": "markdown",
   "metadata": {},
   "source": [
    "The following are the file dependencies that are needed to run this notebook:"
   ]
  },
  {
   "attachments": {},
   "cell_type": "markdown",
   "metadata": {},
   "source": [
    "- files/EURUSD.csv : Precios históricos de EURUSD\n",
    "- files/USDMXN.csv : Precios histróricos de USDMXN"
   ]
  },
  {
   "attachments": {},
   "cell_type": "markdown",
   "metadata": {},
   "source": [
    "### <font color= #6E6E6E> 2.3 Install Packages</font>"
   ]
  },
  {
   "cell_type": "code",
   "execution_count": 1,
   "metadata": {},
   "outputs": [],
   "source": [
    "%%capture\n",
    "\n",
    "# Install all the pip packages in the requirements.txt\n",
    "import sys\n",
    "!{sys.executable} -m pip install -r requirements.txt"
   ]
  },
  {
   "cell_type": "code",
   "execution_count": 2,
   "metadata": {},
   "outputs": [],
   "source": [
    "import pandas as pd\n",
    "import numpy as np\n",
    "import data as dt\n",
    "import warnings\n",
    "warnings.filterwarnings('ignore')\n",
    "import functions as fc"
   ]
  },
  {
   "attachments": {},
   "cell_type": "markdown",
   "metadata": {},
   "source": [
    "<br>"
   ]
  },
  {
   "attachments": {},
   "cell_type": "markdown",
   "metadata": {},
   "source": [
    "## <font color= #6B6B6B> 3. Datos y validaciones </font>"
   ]
  },
  {
   "attachments": {},
   "cell_type": "markdown",
   "metadata": {},
   "source": [
    "<hr style=\"border:0.02in solid gray\"> </hr>"
   ]
  },
  {
   "attachments": {},
   "cell_type": "markdown",
   "metadata": {},
   "source": [
    "El capital inicial de este proyecto es de $ \\$100,000$ USD y el riesgo máximo por operación o la pérdida máxima por operación que se puede asumir es de $ \\$1,000$ USD.\n",
    "\n",
    "Los datos están dividos en dos secciones; periodo de entrenamiento y periodo de prueba. Las divisas elegidas para este laboratorio son EUR/USD y USD/MXN."
   ]
  },
  {
   "attachments": {},
   "cell_type": "markdown",
   "metadata": {},
   "source": [
    "#### Periodo de entrenamiento: 01/ene/2020 - 01/ene/2021"
   ]
  },
  {
   "cell_type": "code",
   "execution_count": 3,
   "metadata": {},
   "outputs": [
    {
     "data": {
      "text/html": [
       "<div>\n",
       "<style scoped>\n",
       "    .dataframe tbody tr th:only-of-type {\n",
       "        vertical-align: middle;\n",
       "    }\n",
       "\n",
       "    .dataframe tbody tr th {\n",
       "        vertical-align: top;\n",
       "    }\n",
       "\n",
       "    .dataframe thead th {\n",
       "        text-align: right;\n",
       "    }\n",
       "</style>\n",
       "<table border=\"1\" class=\"dataframe\">\n",
       "  <thead>\n",
       "    <tr style=\"text-align: right;\">\n",
       "      <th></th>\n",
       "      <th>time</th>\n",
       "      <th>open</th>\n",
       "      <th>high</th>\n",
       "      <th>low</th>\n",
       "      <th>close</th>\n",
       "      <th>tick_volume</th>\n",
       "      <th>spread</th>\n",
       "      <th>real_volume</th>\n",
       "    </tr>\n",
       "  </thead>\n",
       "  <tbody>\n",
       "    <tr>\n",
       "      <th>2110</th>\n",
       "      <td>2020-01-02 00:00:00</td>\n",
       "      <td>1.12080</td>\n",
       "      <td>1.12140</td>\n",
       "      <td>1.11628</td>\n",
       "      <td>1.11712</td>\n",
       "      <td>36043</td>\n",
       "      <td>50</td>\n",
       "      <td>0</td>\n",
       "    </tr>\n",
       "    <tr>\n",
       "      <th>2111</th>\n",
       "      <td>2020-01-02 06:00:00</td>\n",
       "      <td>1.12124</td>\n",
       "      <td>1.12135</td>\n",
       "      <td>1.12117</td>\n",
       "      <td>1.12135</td>\n",
       "      <td>2963</td>\n",
       "      <td>15</td>\n",
       "      <td>444450000</td>\n",
       "    </tr>\n",
       "    <tr>\n",
       "      <th>2112</th>\n",
       "      <td>2020-01-02 06:15:00</td>\n",
       "      <td>1.12135</td>\n",
       "      <td>1.12136</td>\n",
       "      <td>1.12112</td>\n",
       "      <td>1.12114</td>\n",
       "      <td>3639</td>\n",
       "      <td>15</td>\n",
       "      <td>545850000</td>\n",
       "    </tr>\n",
       "    <tr>\n",
       "      <th>2113</th>\n",
       "      <td>2020-01-02 06:30:00</td>\n",
       "      <td>1.12114</td>\n",
       "      <td>1.12115</td>\n",
       "      <td>1.12082</td>\n",
       "      <td>1.12090</td>\n",
       "      <td>3489</td>\n",
       "      <td>15</td>\n",
       "      <td>523350000</td>\n",
       "    </tr>\n",
       "    <tr>\n",
       "      <th>2114</th>\n",
       "      <td>2020-01-02 06:45:00</td>\n",
       "      <td>1.12090</td>\n",
       "      <td>1.12090</td>\n",
       "      <td>1.12002</td>\n",
       "      <td>1.12005</td>\n",
       "      <td>4789</td>\n",
       "      <td>15</td>\n",
       "      <td>718350000</td>\n",
       "    </tr>\n",
       "  </tbody>\n",
       "</table>\n",
       "</div>"
      ],
      "text/plain": [
       "                    time     open     high      low    close  tick_volume  \\\n",
       "2110 2020-01-02 00:00:00  1.12080  1.12140  1.11628  1.11712        36043   \n",
       "2111 2020-01-02 06:00:00  1.12124  1.12135  1.12117  1.12135         2963   \n",
       "2112 2020-01-02 06:15:00  1.12135  1.12136  1.12112  1.12114         3639   \n",
       "2113 2020-01-02 06:30:00  1.12114  1.12115  1.12082  1.12090         3489   \n",
       "2114 2020-01-02 06:45:00  1.12090  1.12090  1.12002  1.12005         4789   \n",
       "\n",
       "      spread  real_volume  \n",
       "2110      50            0  \n",
       "2111      15    444450000  \n",
       "2112      15    545850000  \n",
       "2113      15    523350000  \n",
       "2114      15    718350000  "
      ]
     },
     "execution_count": 3,
     "metadata": {},
     "output_type": "execute_result"
    }
   ],
   "source": [
    "eurusd_train = dt.eurusd_train\n",
    "eurusd_train.drop(columns=eurusd_train.columns[0], axis=1,  inplace=True)\n",
    "eurusd_train.head()"
   ]
  },
  {
   "cell_type": "code",
   "execution_count": 4,
   "metadata": {},
   "outputs": [
    {
     "data": {
      "text/html": [
       "<div>\n",
       "<style scoped>\n",
       "    .dataframe tbody tr th:only-of-type {\n",
       "        vertical-align: middle;\n",
       "    }\n",
       "\n",
       "    .dataframe tbody tr th {\n",
       "        vertical-align: top;\n",
       "    }\n",
       "\n",
       "    .dataframe thead th {\n",
       "        text-align: right;\n",
       "    }\n",
       "</style>\n",
       "<table border=\"1\" class=\"dataframe\">\n",
       "  <thead>\n",
       "    <tr style=\"text-align: right;\">\n",
       "      <th></th>\n",
       "      <th>time</th>\n",
       "      <th>open</th>\n",
       "      <th>high</th>\n",
       "      <th>low</th>\n",
       "      <th>close</th>\n",
       "      <th>tick_volume</th>\n",
       "      <th>spread</th>\n",
       "      <th>real_volume</th>\n",
       "    </tr>\n",
       "  </thead>\n",
       "  <tbody>\n",
       "    <tr>\n",
       "      <th>1865</th>\n",
       "      <td>2020-01-02 00:00:00</td>\n",
       "      <td>18.89565</td>\n",
       "      <td>18.92847</td>\n",
       "      <td>18.82735</td>\n",
       "      <td>18.83095</td>\n",
       "      <td>50071</td>\n",
       "      <td>0</td>\n",
       "      <td>0</td>\n",
       "    </tr>\n",
       "    <tr>\n",
       "      <th>1866</th>\n",
       "      <td>2020-01-02 06:00:00</td>\n",
       "      <td>18.89660</td>\n",
       "      <td>18.89867</td>\n",
       "      <td>18.89565</td>\n",
       "      <td>18.89837</td>\n",
       "      <td>182</td>\n",
       "      <td>646</td>\n",
       "      <td>18200000</td>\n",
       "    </tr>\n",
       "    <tr>\n",
       "      <th>1867</th>\n",
       "      <td>2020-01-02 06:15:00</td>\n",
       "      <td>18.89837</td>\n",
       "      <td>18.90363</td>\n",
       "      <td>18.89767</td>\n",
       "      <td>18.90207</td>\n",
       "      <td>375</td>\n",
       "      <td>530</td>\n",
       "      <td>37500000</td>\n",
       "    </tr>\n",
       "    <tr>\n",
       "      <th>1868</th>\n",
       "      <td>2020-01-02 06:30:00</td>\n",
       "      <td>18.90207</td>\n",
       "      <td>18.90765</td>\n",
       "      <td>18.90187</td>\n",
       "      <td>18.90637</td>\n",
       "      <td>241</td>\n",
       "      <td>536</td>\n",
       "      <td>24100000</td>\n",
       "    </tr>\n",
       "    <tr>\n",
       "      <th>1869</th>\n",
       "      <td>2020-01-02 06:45:00</td>\n",
       "      <td>18.90637</td>\n",
       "      <td>18.91307</td>\n",
       "      <td>18.90637</td>\n",
       "      <td>18.91017</td>\n",
       "      <td>531</td>\n",
       "      <td>576</td>\n",
       "      <td>53100000</td>\n",
       "    </tr>\n",
       "  </tbody>\n",
       "</table>\n",
       "</div>"
      ],
      "text/plain": [
       "                    time      open      high       low     close  tick_volume  \\\n",
       "1865 2020-01-02 00:00:00  18.89565  18.92847  18.82735  18.83095        50071   \n",
       "1866 2020-01-02 06:00:00  18.89660  18.89867  18.89565  18.89837          182   \n",
       "1867 2020-01-02 06:15:00  18.89837  18.90363  18.89767  18.90207          375   \n",
       "1868 2020-01-02 06:30:00  18.90207  18.90765  18.90187  18.90637          241   \n",
       "1869 2020-01-02 06:45:00  18.90637  18.91307  18.90637  18.91017          531   \n",
       "\n",
       "      spread  real_volume  \n",
       "1865       0            0  \n",
       "1866     646     18200000  \n",
       "1867     530     37500000  \n",
       "1868     536     24100000  \n",
       "1869     576     53100000  "
      ]
     },
     "execution_count": 4,
     "metadata": {},
     "output_type": "execute_result"
    }
   ],
   "source": [
    "usdmxn_train = dt.usdmxn_train\n",
    "usdmxn_train.drop(columns=usdmxn_train.columns[0], axis=1,  inplace=True)\n",
    "usdmxn_train.head()"
   ]
  },
  {
   "attachments": {},
   "cell_type": "markdown",
   "metadata": {},
   "source": [
    "#### Periodo de prueba: 01/Feb/2021 - 01/Feb/2022"
   ]
  },
  {
   "cell_type": "code",
   "execution_count": 5,
   "metadata": {},
   "outputs": [
    {
     "data": {
      "text/html": [
       "<div>\n",
       "<style scoped>\n",
       "    .dataframe tbody tr th:only-of-type {\n",
       "        vertical-align: middle;\n",
       "    }\n",
       "\n",
       "    .dataframe tbody tr th {\n",
       "        vertical-align: top;\n",
       "    }\n",
       "\n",
       "    .dataframe thead th {\n",
       "        text-align: right;\n",
       "    }\n",
       "</style>\n",
       "<table border=\"1\" class=\"dataframe\">\n",
       "  <thead>\n",
       "    <tr style=\"text-align: right;\">\n",
       "      <th></th>\n",
       "      <th>time</th>\n",
       "      <th>open</th>\n",
       "      <th>high</th>\n",
       "      <th>low</th>\n",
       "      <th>close</th>\n",
       "      <th>tick_volume</th>\n",
       "      <th>spread</th>\n",
       "      <th>real_volume</th>\n",
       "    </tr>\n",
       "  </thead>\n",
       "  <tbody>\n",
       "    <tr>\n",
       "      <th>27007</th>\n",
       "      <td>2021-01-04 00:00:00</td>\n",
       "      <td>1.22379</td>\n",
       "      <td>1.22384</td>\n",
       "      <td>1.22291</td>\n",
       "      <td>1.22293</td>\n",
       "      <td>668</td>\n",
       "      <td>15</td>\n",
       "      <td>100200000</td>\n",
       "    </tr>\n",
       "    <tr>\n",
       "      <th>27008</th>\n",
       "      <td>2021-01-04 00:15:00</td>\n",
       "      <td>1.22293</td>\n",
       "      <td>1.22370</td>\n",
       "      <td>1.22293</td>\n",
       "      <td>1.22340</td>\n",
       "      <td>520</td>\n",
       "      <td>17</td>\n",
       "      <td>78000000</td>\n",
       "    </tr>\n",
       "    <tr>\n",
       "      <th>27009</th>\n",
       "      <td>2021-01-04 00:30:00</td>\n",
       "      <td>1.22340</td>\n",
       "      <td>1.22384</td>\n",
       "      <td>1.22322</td>\n",
       "      <td>1.22343</td>\n",
       "      <td>927</td>\n",
       "      <td>15</td>\n",
       "      <td>139050000</td>\n",
       "    </tr>\n",
       "    <tr>\n",
       "      <th>27010</th>\n",
       "      <td>2021-01-04 00:45:00</td>\n",
       "      <td>1.22343</td>\n",
       "      <td>1.22353</td>\n",
       "      <td>1.22325</td>\n",
       "      <td>1.22334</td>\n",
       "      <td>309</td>\n",
       "      <td>15</td>\n",
       "      <td>46350000</td>\n",
       "    </tr>\n",
       "    <tr>\n",
       "      <th>27011</th>\n",
       "      <td>2021-01-04 01:00:00</td>\n",
       "      <td>1.22334</td>\n",
       "      <td>1.22410</td>\n",
       "      <td>1.22302</td>\n",
       "      <td>1.22391</td>\n",
       "      <td>6232</td>\n",
       "      <td>15</td>\n",
       "      <td>934800000</td>\n",
       "    </tr>\n",
       "  </tbody>\n",
       "</table>\n",
       "</div>"
      ],
      "text/plain": [
       "                     time     open     high      low    close  tick_volume  \\\n",
       "27007 2021-01-04 00:00:00  1.22379  1.22384  1.22291  1.22293          668   \n",
       "27008 2021-01-04 00:15:00  1.22293  1.22370  1.22293  1.22340          520   \n",
       "27009 2021-01-04 00:30:00  1.22340  1.22384  1.22322  1.22343          927   \n",
       "27010 2021-01-04 00:45:00  1.22343  1.22353  1.22325  1.22334          309   \n",
       "27011 2021-01-04 01:00:00  1.22334  1.22410  1.22302  1.22391         6232   \n",
       "\n",
       "       spread  real_volume  \n",
       "27007      15    100200000  \n",
       "27008      17     78000000  \n",
       "27009      15    139050000  \n",
       "27010      15     46350000  \n",
       "27011      15    934800000  "
      ]
     },
     "execution_count": 5,
     "metadata": {},
     "output_type": "execute_result"
    }
   ],
   "source": [
    "eurusd_test = dt.eurusd_test\n",
    "eurusd_test.drop(columns=eurusd_test.columns[0], axis=1,  inplace=True)\n",
    "eurusd_test.head()"
   ]
  },
  {
   "cell_type": "code",
   "execution_count": 6,
   "metadata": {
    "scrolled": true
   },
   "outputs": [
    {
     "data": {
      "text/html": [
       "<div>\n",
       "<style scoped>\n",
       "    .dataframe tbody tr th:only-of-type {\n",
       "        vertical-align: middle;\n",
       "    }\n",
       "\n",
       "    .dataframe tbody tr th {\n",
       "        vertical-align: top;\n",
       "    }\n",
       "\n",
       "    .dataframe thead th {\n",
       "        text-align: right;\n",
       "    }\n",
       "</style>\n",
       "<table border=\"1\" class=\"dataframe\">\n",
       "  <thead>\n",
       "    <tr style=\"text-align: right;\">\n",
       "      <th></th>\n",
       "      <th>time</th>\n",
       "      <th>open</th>\n",
       "      <th>high</th>\n",
       "      <th>low</th>\n",
       "      <th>close</th>\n",
       "      <th>tick_volume</th>\n",
       "      <th>spread</th>\n",
       "      <th>real_volume</th>\n",
       "    </tr>\n",
       "  </thead>\n",
       "  <tbody>\n",
       "    <tr>\n",
       "      <th>26696</th>\n",
       "      <td>2021-01-04 00:00:00</td>\n",
       "      <td>19.89975</td>\n",
       "      <td>19.97963</td>\n",
       "      <td>19.70202</td>\n",
       "      <td>19.89975</td>\n",
       "      <td>118631</td>\n",
       "      <td>0</td>\n",
       "      <td>2100000</td>\n",
       "    </tr>\n",
       "    <tr>\n",
       "      <th>26697</th>\n",
       "      <td>2021-01-04 00:15:00</td>\n",
       "      <td>19.89725</td>\n",
       "      <td>19.89750</td>\n",
       "      <td>19.89500</td>\n",
       "      <td>19.89500</td>\n",
       "      <td>75</td>\n",
       "      <td>2500</td>\n",
       "      <td>7500000</td>\n",
       "    </tr>\n",
       "    <tr>\n",
       "      <th>26698</th>\n",
       "      <td>2021-01-04 00:30:00</td>\n",
       "      <td>19.89500</td>\n",
       "      <td>19.89750</td>\n",
       "      <td>19.89200</td>\n",
       "      <td>19.89301</td>\n",
       "      <td>65</td>\n",
       "      <td>2500</td>\n",
       "      <td>6500000</td>\n",
       "    </tr>\n",
       "    <tr>\n",
       "      <th>26699</th>\n",
       "      <td>2021-01-04 00:45:00</td>\n",
       "      <td>19.89301</td>\n",
       "      <td>19.89307</td>\n",
       "      <td>19.89301</td>\n",
       "      <td>19.89307</td>\n",
       "      <td>52</td>\n",
       "      <td>2500</td>\n",
       "      <td>5200000</td>\n",
       "    </tr>\n",
       "    <tr>\n",
       "      <th>26700</th>\n",
       "      <td>2021-01-04 01:00:00</td>\n",
       "      <td>19.89307</td>\n",
       "      <td>19.89504</td>\n",
       "      <td>19.84544</td>\n",
       "      <td>19.85333</td>\n",
       "      <td>1203</td>\n",
       "      <td>2485</td>\n",
       "      <td>120300000</td>\n",
       "    </tr>\n",
       "  </tbody>\n",
       "</table>\n",
       "</div>"
      ],
      "text/plain": [
       "                     time      open      high       low     close  \\\n",
       "26696 2021-01-04 00:00:00  19.89975  19.97963  19.70202  19.89975   \n",
       "26697 2021-01-04 00:15:00  19.89725  19.89750  19.89500  19.89500   \n",
       "26698 2021-01-04 00:30:00  19.89500  19.89750  19.89200  19.89301   \n",
       "26699 2021-01-04 00:45:00  19.89301  19.89307  19.89301  19.89307   \n",
       "26700 2021-01-04 01:00:00  19.89307  19.89504  19.84544  19.85333   \n",
       "\n",
       "       tick_volume  spread  real_volume  \n",
       "26696       118631       0      2100000  \n",
       "26697           75    2500      7500000  \n",
       "26698           65    2500      6500000  \n",
       "26699           52    2500      5200000  \n",
       "26700         1203    2485    120300000  "
      ]
     },
     "execution_count": 6,
     "metadata": {},
     "output_type": "execute_result"
    }
   ],
   "source": [
    "usdmxn_test = dt.usdmxn_test\n",
    "usdmxn_test.drop(columns=usdmxn_test.columns[0], axis=1,  inplace=True)\n",
    "usdmxn_test.head()"
   ]
  },
  {
   "attachments": {},
   "cell_type": "markdown",
   "metadata": {},
   "source": [
    "<br>"
   ]
  },
  {
   "attachments": {},
   "cell_type": "markdown",
   "metadata": {},
   "source": [
    "## <font color= #6B6B6B> 3. Aspectos financieros </font>"
   ]
  },
  {
   "attachments": {},
   "cell_type": "markdown",
   "metadata": {},
   "source": [
    "<hr style=\"border:0.02in solid gray\"> </hr>"
   ]
  },
  {
   "attachments": {},
   "cell_type": "markdown",
   "metadata": {},
   "source": [
    "###  <font color= #6B6B6B> Sistema de trading</font>"
   ]
  },
  {
   "attachments": {},
   "cell_type": "markdown",
   "metadata": {},
   "source": [
    "Un sistema de trading es un conjunto de reglas que le indican al trader cuándo operar. Se basan en análisis técnico para poder determinar el momento más rentable para entrar al mercado y cuándo es el mejor momento para salir. El sistema también puede indicarle cuánto debe operar en cada transacción. \n",
    "\n",
    "Los sistemas de trading son la base para las inversiones ya que permiten determinar cuándo abrir una posición, su tamaño y el tiempo que deberá permanecer abierta. Incluso pueden definir la gestión de la posición mientras se desarrolla, las técnicas de control de riesgo, los cálculos de gestión de capital, la diversificación del portafolio, entre otros aspectos.\n",
    "\n",
    "PONER CUATRO CRITERIOS DE TRADING ??!!\n",
    "\n",
    "Los sistemas pueden ser manuales o automatizados y se basan en diferentes técnicas y metodologías de análisis de mercado. Estas técnicas pueden basarse en el análisis técnico, análisis fundamental o análisis cuantitativo. En este laboratorio se realiza un análisis técnico.\n"
   ]
  },
  {
   "attachments": {},
   "cell_type": "markdown",
   "metadata": {},
   "source": [
    "- Hacer 5 validaciones visuales del algoritmo de decision utilizando estudios técnicos.\n",
    "\n",
    "- Apoyar en aspectos computacionales.\n",
    "\n",
    "- Apoyar en aspectos estadísticos.\n",
    "\n",
    "- Realizar una tabla comparativa de los resultados con 3 MAD que propongas, utilizando los datos de la evolución del capital acumulado, tanto de la configuración de parámetros que se eligió del periodo de entrenamiento, como para los resultados en el periodo de prueba con los parámetros de la configuración elegida del periodo de entrenamiento (con los mismos datos pero en periodos diferentes)."
   ]
  },
  {
   "attachments": {},
   "cell_type": "markdown",
   "metadata": {},
   "source": [
    "###  <font color= #6B6B6B> Aspectos Estadísticos</font>"
   ]
  },
  {
   "attachments": {},
   "cell_type": "markdown",
   "metadata": {},
   "source": [
    "#### Bandas de Bollinger"
   ]
  },
  {
   "attachments": {},
   "cell_type": "markdown",
   "metadata": {},
   "source": [
    "Las bandas de bollinger son una herramienta de análisis técnico definidas por un conjunto de líneas de tendencia. Se grafican dos desviaciones estándares, tanto positivas como negativas, de una media móvil simple del precio de un valor. Fueron desarrolladas por John Bollinger para proporcionar a los traders una manera de identificar los periodos de alta y baja probabilidad de cambio.\n",
    "\n",
    "La franja entre las bandas superior e inferior contiene, estadísticamente, casi un 90% de las posibles variaciones del precio. Las bandas son utilizadas para identificar cambios de tendencia en el precio e identificar fortaleza o debilidad en la misma."
   ]
  },
  {
   "cell_type": "code",
   "execution_count": null,
   "metadata": {},
   "outputs": [],
   "source": [
    "fc.bollinger(usdmxn_train)"
   ]
  },
  {
   "cell_type": "code",
   "execution_count": null,
   "metadata": {},
   "outputs": [],
   "source": [
    "fc.bollinger(eurusd_train)"
   ]
  },
  {
   "attachments": {},
   "cell_type": "markdown",
   "metadata": {},
   "source": [
    "#### Relative Strength Index (RSI)"
   ]
  },
  {
   "attachments": {},
   "cell_type": "markdown",
   "metadata": {},
   "source": [
    "El RSI mide el impulso de los cambios en el precio de un activo para evaluar si el precio de dicho activo está sobrevendido o sobrecomprado. Este indicador es parte de la categoría de los osciladores y fue creado por J. Welles Wilder Jr.\n",
    "\n",
    "El indicador proporciona una medida de qué tan bien se está comportando el precio de un activo frente a sí mismo. Con un nivel de RSI por encima de 70 significa que está sobrevalorado y un nivel debajo de 30 indica que un activo está sobrevendido.\n",
    "\n",
    "El RSI se calcula mediante la siguiente fórmula:\n",
    "\n",
    "$RSI=100-\\frac{100}{1+RS}$\n",
    "\n",
    "en donde\n",
    "\n",
    "$RS=\\frac{Avg Up}{Avg Down}$\n",
    "\n",
    "siendo:\n",
    "\n",
    "$Avg Up$ el promedio de las variaciones al alza del precio en el periodo N y $Avg Down$ el promedio de las variaciones a la baja del precio en el periodo N.\n",
    "\n",
    "Habitualmente, se considera un periodo de 14 para el cálculo del RSI.\n",
    "\n",
    "Para obtener señales de trading con el RSI se puede hacer mediante la identificación de divergencias o mediante el análisis de formaciones de doble fondo."
   ]
  },
  {
   "cell_type": "code",
   "execution_count": null,
   "metadata": {},
   "outputs": [],
   "source": [
    "fc.rsi(usdmxn_train)"
   ]
  },
  {
   "cell_type": "code",
   "execution_count": null,
   "metadata": {},
   "outputs": [],
   "source": [
    "fc.rsi(eurusd_train)"
   ]
  },
  {
   "attachments": {},
   "cell_type": "markdown",
   "metadata": {},
   "source": [
    "#### Generación de señal de compra o de venta"
   ]
  },
  {
   "attachments": {},
   "cell_type": "markdown",
   "metadata": {},
   "source": [
    "Para este laboratorio, la señal de compra o de venta se generó basada en las bandas de bollinger y el RSI. Si estos dos indicadores marcan una compra, se realiza la compra y lo mismo va para la venta. Pero si los indicadores tienen señales distintas, se respeta la señal generada por las bandas de bollinger"
   ]
  },
  {
   "cell_type": "code",
   "execution_count": null,
   "metadata": {},
   "outputs": [],
   "source": [
    "fc.signal(usdmxn_train)"
   ]
  },
  {
   "cell_type": "code",
   "execution_count": null,
   "metadata": {},
   "outputs": [],
   "source": [
    "fc.signal(eurusd_train)"
   ]
  },
  {
   "attachments": {},
   "cell_type": "markdown",
   "metadata": {},
   "source": [
    "###  <font color= #6B6B6B> 3.3 Aspectos Computacionales</font>\n",
    "\n",
    "1.  Función de utilidad:\n",
    "___\n",
    "2. Parámetro a optimizar:\n",
    "\n",
    "**a)** Stop Loss:\n",
    "\n",
    "· Qué es: Cantidad de pips en contra de dónde se abrió la operación.\n",
    "\n",
    "· Expresado en: Pips (valor numérico %)\n",
    "\n",
    "· Rango: 0-1% del capital total\n",
    "\n",
    "**b)** Take Profit:\n",
    "\n",
    "· Qué es: Cantidad de pips que se mueve a favor tu operación para cerrarla y tomar ganancias.\n",
    "\n",
    "· Expresado en: Pips (valor numérico %)\n",
    "\n",
    "· Rango: 1-4% del capital total \n",
    "\n",
    "**c)** Volumen:\n",
    "\n",
    "· Qué es: Tamaño de operación (Lotes, % del capital total, etc)\n",
    "\n",
    "· Expresado en: Valor númerico\n",
    "\n",
    "· Rango: 1-10 lotes\n",
    "___\n",
    "3. Espacio de búsqueda:\n",
    "____\n",
    "\n",
    "4. Tiempo de búsqueda exhaustiva:\n",
    "____\n",
    "\n",
    "5. Método de optimización: \n",
    "### PSO:\n",
    "\n",
    "El PSO, o Optimización por Enjambre de Partículas, es un método heurístico de optimización que imita el comportamiento natural para resolver problemas. Este algoritmo se basa en una población de soluciones candidatas llamadas \"partículas\", que se mueven a través del espacio de búsqueda siguiendo reglas matemáticas que consideran tanto la posición como la velocidad de cada partícula. Cada partícula se ve influenciada por su mejor posición local y las mejores posiciones globales encontradas por otras partículas en su recorrido. El objetivo es lograr que el enjambre de partículas converja rápidamente hacia las soluciones más óptimas.\n",
    "___\n",
    "6. Gráfica de convergencia:\n",
    "___"
   ]
  },
  {
   "cell_type": "code",
   "execution_count": null,
   "metadata": {},
   "outputs": [],
   "source": [
    "fc.automated_trading(usdmxn_train, window_length=15, k=3, rsi_window=1, volume=1000, stop_loss=0.03, take_profit=0.3)"
   ]
  },
  {
   "cell_type": "code",
   "execution_count": null,
   "metadata": {},
   "outputs": [],
   "source": [
    "fc.optimize_parameters(usdmxn_train,max_volume=100000, max_stop_loss=0.5, max_take_profit=0.5)"
   ]
  },
  {
   "attachments": {},
   "cell_type": "markdown",
   "metadata": {},
   "source": [
    "# <font color= #6B6B6B> <font size = 6> 5. Aplicacion las reglas para la toma de decisiones en df_decisiones con los datos de prueba. </font>"
   ]
  },
  {
   "cell_type": "code",
   "execution_count": 7,
   "metadata": {},
   "outputs": [
    {
     "name": "stderr",
     "output_type": "stream",
     "text": [
      "2023-05-09 08:11:24,016 - pyswarms.single.global_best - INFO - Optimize for 10 iters with {'c1': 0.5, 'c2': 0.3, 'w': 0.9}\n",
      "pyswarms.single.global_best: 100%|██████████|10/10, best_cost=-1e+5\n",
      "2023-05-09 08:14:28,011 - pyswarms.single.global_best - INFO - Optimization finished | best cost: -100398.1695006085, best pos: [9.99421437e+03 2.89370791e-03 3.46476326e-02]\n"
     ]
    }
   ],
   "source": [
    "best_params = fc.optimize_parameters_pso(eurusd_train, max_volume=10000, max_stop_loss=0.05, max_take_profit=0.1, num_particles=10, num_iterations=10)"
   ]
  },
  {
   "cell_type": "code",
   "execution_count": 8,
   "metadata": {},
   "outputs": [],
   "source": [
    "params = best_params[-1]\n",
    "results = fc.automated_trading(usdmxn_test, window_length=15, k=3, rsi_window=1, volume=params[0], stop_loss=params[1], take_profit=params[2])"
   ]
  },
  {
   "cell_type": "code",
   "execution_count": 10,
   "metadata": {},
   "outputs": [
    {
     "data": {
      "text/html": [
       "<div>\n",
       "<style scoped>\n",
       "    .dataframe tbody tr th:only-of-type {\n",
       "        vertical-align: middle;\n",
       "    }\n",
       "\n",
       "    .dataframe tbody tr th {\n",
       "        vertical-align: top;\n",
       "    }\n",
       "\n",
       "    .dataframe thead th {\n",
       "        text-align: right;\n",
       "    }\n",
       "</style>\n",
       "<table border=\"1\" class=\"dataframe\">\n",
       "  <thead>\n",
       "    <tr style=\"text-align: right;\">\n",
       "      <th></th>\n",
       "      <th>type</th>\n",
       "      <th>open_price</th>\n",
       "      <th>amount</th>\n",
       "      <th>value</th>\n",
       "      <th>stop_loss</th>\n",
       "      <th>take_profit</th>\n",
       "      <th>pnl</th>\n",
       "      <th>balance</th>\n",
       "    </tr>\n",
       "  </thead>\n",
       "  <tbody>\n",
       "    <tr>\n",
       "      <th>1</th>\n",
       "      <td>short</td>\n",
       "      <td>19.78745</td>\n",
       "      <td>9994.214373</td>\n",
       "      <td>197760.017189</td>\n",
       "      <td>19.730191</td>\n",
       "      <td>20.473038</td>\n",
       "      <td>-2186.734105</td>\n",
       "      <td>97813.265895</td>\n",
       "    </tr>\n",
       "    <tr>\n",
       "      <th>4</th>\n",
       "      <td>short</td>\n",
       "      <td>20.08401</td>\n",
       "      <td>9994.214373</td>\n",
       "      <td>200723.901404</td>\n",
       "      <td>20.025893</td>\n",
       "      <td>20.779873</td>\n",
       "      <td>1239.382524</td>\n",
       "      <td>99052.648420</td>\n",
       "    </tr>\n",
       "    <tr>\n",
       "      <th>12</th>\n",
       "      <td>short</td>\n",
       "      <td>20.30661</td>\n",
       "      <td>9994.214373</td>\n",
       "      <td>202948.613523</td>\n",
       "      <td>20.247849</td>\n",
       "      <td>21.010186</td>\n",
       "      <td>-2672.352981</td>\n",
       "      <td>105194.492920</td>\n",
       "    </tr>\n",
       "    <tr>\n",
       "      <th>17</th>\n",
       "      <td>short</td>\n",
       "      <td>19.91505</td>\n",
       "      <td>9994.214373</td>\n",
       "      <td>199035.278943</td>\n",
       "      <td>19.857422</td>\n",
       "      <td>20.605059</td>\n",
       "      <td>-3141.881172</td>\n",
       "      <td>102052.611748</td>\n",
       "    </tr>\n",
       "    <tr>\n",
       "      <th>20</th>\n",
       "      <td>short</td>\n",
       "      <td>19.91750</td>\n",
       "      <td>9994.214373</td>\n",
       "      <td>199059.764768</td>\n",
       "      <td>19.859865</td>\n",
       "      <td>20.607594</td>\n",
       "      <td>-346.499412</td>\n",
       "      <td>101706.112336</td>\n",
       "    </tr>\n",
       "    <tr>\n",
       "      <th>22</th>\n",
       "      <td>short</td>\n",
       "      <td>19.87231</td>\n",
       "      <td>9994.214373</td>\n",
       "      <td>198608.126221</td>\n",
       "      <td>19.814805</td>\n",
       "      <td>20.560838</td>\n",
       "      <td>-831.418694</td>\n",
       "      <td>100874.693642</td>\n",
       "    </tr>\n",
       "    <tr>\n",
       "      <th>24</th>\n",
       "      <td>short</td>\n",
       "      <td>19.80900</td>\n",
       "      <td>9994.214373</td>\n",
       "      <td>197975.392509</td>\n",
       "      <td>19.751679</td>\n",
       "      <td>20.495335</td>\n",
       "      <td>-8465.099574</td>\n",
       "      <td>92409.594068</td>\n",
       "    </tr>\n",
       "    <tr>\n",
       "      <th>29</th>\n",
       "      <td>short</td>\n",
       "      <td>19.86620</td>\n",
       "      <td>9994.214373</td>\n",
       "      <td>198547.061571</td>\n",
       "      <td>19.808713</td>\n",
       "      <td>20.554517</td>\n",
       "      <td>-26.984379</td>\n",
       "      <td>92382.609689</td>\n",
       "    </tr>\n",
       "    <tr>\n",
       "      <th>31</th>\n",
       "      <td>short</td>\n",
       "      <td>19.87495</td>\n",
       "      <td>9994.214373</td>\n",
       "      <td>198634.510947</td>\n",
       "      <td>19.817438</td>\n",
       "      <td>20.563570</td>\n",
       "      <td>-1503.129842</td>\n",
       "      <td>90879.479848</td>\n",
       "    </tr>\n",
       "    <tr>\n",
       "      <th>33</th>\n",
       "      <td>short</td>\n",
       "      <td>20.19039</td>\n",
       "      <td>9994.214373</td>\n",
       "      <td>201787.085928</td>\n",
       "      <td>20.131965</td>\n",
       "      <td>20.889939</td>\n",
       "      <td>-1799.058529</td>\n",
       "      <td>89080.421319</td>\n",
       "    </tr>\n",
       "    <tr>\n",
       "      <th>40</th>\n",
       "      <td>short</td>\n",
       "      <td>20.32300</td>\n",
       "      <td>9994.214373</td>\n",
       "      <td>203112.418696</td>\n",
       "      <td>20.264191</td>\n",
       "      <td>21.027144</td>\n",
       "      <td>2988.370040</td>\n",
       "      <td>92068.791358</td>\n",
       "    </tr>\n",
       "    <tr>\n",
       "      <th>43</th>\n",
       "      <td>short</td>\n",
       "      <td>20.33367</td>\n",
       "      <td>9994.214373</td>\n",
       "      <td>203219.056964</td>\n",
       "      <td>20.274830</td>\n",
       "      <td>21.038184</td>\n",
       "      <td>-2220.314665</td>\n",
       "      <td>89848.476693</td>\n",
       "    </tr>\n",
       "  </tbody>\n",
       "</table>\n",
       "</div>"
      ],
      "text/plain": [
       "     type  open_price       amount          value  stop_loss  take_profit  \\\n",
       "1   short    19.78745  9994.214373  197760.017189  19.730191    20.473038   \n",
       "4   short    20.08401  9994.214373  200723.901404  20.025893    20.779873   \n",
       "12  short    20.30661  9994.214373  202948.613523  20.247849    21.010186   \n",
       "17  short    19.91505  9994.214373  199035.278943  19.857422    20.605059   \n",
       "20  short    19.91750  9994.214373  199059.764768  19.859865    20.607594   \n",
       "22  short    19.87231  9994.214373  198608.126221  19.814805    20.560838   \n",
       "24  short    19.80900  9994.214373  197975.392509  19.751679    20.495335   \n",
       "29  short    19.86620  9994.214373  198547.061571  19.808713    20.554517   \n",
       "31  short    19.87495  9994.214373  198634.510947  19.817438    20.563570   \n",
       "33  short    20.19039  9994.214373  201787.085928  20.131965    20.889939   \n",
       "40  short    20.32300  9994.214373  203112.418696  20.264191    21.027144   \n",
       "43  short    20.33367  9994.214373  203219.056964  20.274830    21.038184   \n",
       "\n",
       "            pnl        balance  \n",
       "1  -2186.734105   97813.265895  \n",
       "4   1239.382524   99052.648420  \n",
       "12 -2672.352981  105194.492920  \n",
       "17 -3141.881172  102052.611748  \n",
       "20  -346.499412  101706.112336  \n",
       "22  -831.418694  100874.693642  \n",
       "24 -8465.099574   92409.594068  \n",
       "29   -26.984379   92382.609689  \n",
       "31 -1503.129842   90879.479848  \n",
       "33 -1799.058529   89080.421319  \n",
       "40  2988.370040   92068.791358  \n",
       "43 -2220.314665   89848.476693  "
      ]
     },
     "execution_count": 10,
     "metadata": {},
     "output_type": "execute_result"
    }
   ],
   "source": [
    "results[-1]"
   ]
  },
  {
   "cell_type": "code",
   "execution_count": 13,
   "metadata": {},
   "outputs": [
    {
     "data": {
      "text/plain": [
       "<AxesSubplot: >"
      ]
     },
     "execution_count": 13,
     "metadata": {},
     "output_type": "execute_result"
    },
    {
     "data": {
      "image/png": "[encoded data removed]",
      "text/plain": [
       "<Figure size 640x480 with 1 Axes>"
      ]
     },
     "metadata": {},
     "output_type": "display_data"
    }
   ],
   "source": [
    "final_df = results[-1]\n",
    "final_df['balance'].plot.line()"
   ]
  },
  {
   "cell_type": "code",
   "execution_count": 25,
   "metadata": {},
   "outputs": [
    {
     "name": "stdout",
     "output_type": "stream",
     "text": [
      "Media Aritmética: -0.7055030520223018\n",
      "Media Geométrica: -32.35130654159093\n",
      "Media Armónica: nan\n"
     ]
    }
   ],
   "source": [
    "import pandas as pd\n",
    "\n",
    "# Leer los datos del archivo csv\n",
    "data = final_df\n",
    "\n",
    "# Calcular el rendimiento en porcentaje para cada operación\n",
    "data[\"rendimiento\"] = (data[\"balance\"] / data[\"balance\"].shift(1) - 1) * 100\n",
    "\n",
    "# Calcular las tres medias de atribución de desempeño\n",
    "media_aritmetica = data[\"rendimiento\"].mean()\n",
    "media_geometrica = (data[\"rendimiento\"] + 100).prod() ** (1 / len(data)) - 100\n",
    "media_armonica = len(data) / sum(1 / (data[\"rendimiento\"] + 100)) - 100\n",
    "\n",
    "# Imprimir los resultados\n",
    "print(\"Media Aritmética:\", media_aritmetica)\n",
    "print(\"Media Geométrica:\", media_geometrica)\n",
    "print(\"Media Armónica:\", media_armonica)\n"
   ]
  },
  {
   "attachments": {},
   "cell_type": "markdown",
   "metadata": {},
   "source": [
    "Con los resultados anteriores que encontraste para los parámetros de la estrategia de trading,  aplica las reglas para la toma de decisiones en df_decisiones con los datos de prueba.\n",
    "\n",
    "- Elige 1 resultado de optimización (Periodo de optimizacion)\n",
    "- Grafica la evolucion de capital en este periodo (Grafica Evolucion de Capital (Linea)) \n",
    "- Imprime los datos calculados en el df_backtest.\n",
    "- Con la misma configuración de parámetros encontrada en el paso anterior, usa los datos del periodo de prueba\n",
    "- Utiliza sus parámetros: Volumen, TakeProfit, StopLoss\n",
    "- Grafica la evlucion de capital en este periodo (Grafica Evolucion de Capital (Linea)) \n",
    "-- Imprime los datos calculados en el df_prueba."
   ]
  },
  {
   "cell_type": "code",
   "execution_count": null,
   "metadata": {},
   "outputs": [],
   "source": [
    "# Here you include content from data conceptual, statistical and visual description"
   ]
  },
  {
   "attachments": {},
   "cell_type": "markdown",
   "metadata": {},
   "source": [
    "<br>"
   ]
  },
  {
   "attachments": {},
   "cell_type": "markdown",
   "metadata": {},
   "source": [
    "# <font color= #6B6B6B> <font size = 6> 5. Conclusions </font>"
   ]
  },
  {
   "attachments": {},
   "cell_type": "markdown",
   "metadata": {},
   "source": [
    "# <font color= #6B6B6B> <font size = 6> 6. References </font>"
   ]
  },
  {
   "attachments": {},
   "cell_type": "markdown",
   "metadata": {},
   "source": [
    "<hr style=\"border:0.02in solid gray\"> </hr>"
   ]
  },
  {
   "attachments": {},
   "cell_type": "markdown",
   "metadata": {},
   "source": [
    "Investopedia. (2021). Trading System. Recuperado el 3 de mayo de 2023, de https://www.investopedia.com/terms/t/tradingsystem.asp\n",
    "\n",
    "Trading Education. (s.f.). What is a Trading System? Recuperado el 3 de mayo de 2023, de https://trading-education.com/what-is-a-trading-system\n",
    "\n",
    "Nextmarkets. (s.f.). Sistemas de trading. Nextmarkets. Recuperado el 3 de mayo de 2023, de https://www.nextmarkets.com/es/trading/formacion/sistemas-trading\n",
    "\n",
    "Novatos Trading Club. (s.f.). Sistema de trading ¿qué es eso? Recuperado el 3 de mayo de 2023, de https://www.novatostradingclub.com/principiantes/sistema-de-trading-%C2%BFque-es-eso/\n",
    "\n",
    "\n",
    "Avatrade. (s.f.). Bandas de Bollinger. AvaTrade. Recuperado el 3 de mayo de 2023, de https://www.avatrade.es/educacion/trading-para-principiantes/bandas-de-bollinger\n",
    "\n",
    "Avatrade. (s.f.). Estrategias de trading RSI. AvaTrade. Recuperado el 4 de mayo de 2023, de https://www.avatrade.es/educacion/professional-trading-strategies/rsi-trading-strategies"
   ]
  },
  {
   "attachments": {},
   "cell_type": "markdown",
   "metadata": {},
   "source": [
    "<br>"
   ]
  }
 ],
 "metadata": {
  "kernelspec": {
   "display_name": "Python 3",
   "language": "python",
   "name": "python3"
  },
  "language_info": {
   "codemirror_mode": {
    "name": "ipython",
    "version": 3
   },
   "file_extension": ".py",
   "mimetype": "text/x-python",
   "name": "python",
   "nbconvert_exporter": "python",
   "pygments_lexer": "ipython3",
   "version": "3.11.1"
  }
 },
 "nbformat": 4,
 "nbformat_minor": 4
}
