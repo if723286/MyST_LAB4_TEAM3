{
 "cells": [
  {
   "attachments": {},
   "cell_type": "markdown",
   "metadata": {},
   "source": [
    "<center> <img src=\"https://oci02.img.iteso.mx/Identidades-De-Instancia/ITESO/Logos%20ITESO/Logo-ITESO-Principal.jpg\" align=\"center\" width=\"650\" height=\"400\"/> </center>"
   ]
  },
  {
   "attachments": {},
   "cell_type": "markdown",
   "metadata": {},
   "source": [
    "<center><font color=#555555><font size=6> Proyecto Final (Analisis Técnico) </font> <br> <br>\n",
    "    \n",
    "<center><font color=#555555><font size=5> MICROESTRUCTURA Y SISTEMAS DE TRADING </font> <br> <br> <br> <br>\n",
    "\n",
    "<center><font color=#555555><font size=5> B.Eng Financial Engineering </font> <br> <br> <br> <br>\n",
    "\n",
    "<center><font color=#555555><font size=6> I.F. Andrea Flores Fernández </font> <br> <br>\n",
    "\n",
    "<center><font color=#555555><font size=6> I.F. Tania Bell </font> <br> <br>\n",
    "\n",
    "<center><font color=#555555><font size=6> I.F. Fer Guerra </font> <br> <br>\n",
    "\n",
    "<center><font color=#555555><font size=6> I.F. Blas Cesar Sanchez Barba </font> <br> <br>\n",
    "\n",
    "     \n",
    "<center> <font color= #555555> <font size = 4> May 2023 </a> | <font color= #555555> <font size = 4> Repository: <a href='https://github.com/if723286/MyST_LAB5_TEAM3'>Link</a></font>\n",
    "   "
   ]
  },
  {
   "cell_type": "markdown",
   "metadata": {},
   "source": [
    "<hr style=\"border:0.02in solid gray\"> </hr>"
   ]
  },
  {
   "attachments": {},
   "cell_type": "markdown",
   "metadata": {},
   "source": [
    "<center> <font color= #555555> <font size = 6> LAB 5. Proyecto Final </font> <br> <br> <font color= #555555> <font size = 5>Análisis Técnico  </font>"
   ]
  },
  {
   "cell_type": "markdown",
   "metadata": {},
   "source": [
    "<hr style=\"border:0.02in solid gray\"> </hr>"
   ]
  },
  {
   "cell_type": "markdown",
   "metadata": {},
   "source": [
    "<br>"
   ]
  },
  {
   "cell_type": "markdown",
   "metadata": {},
   "source": [
    "<font color= #555555> <font size = 4> Abstract </font>"
   ]
  },
  {
   "cell_type": "markdown",
   "metadata": {},
   "source": [
    "<font color= #6B6B6B> <font size = 3>  Include here a description of the whole work, use no more than 400 words, you can use **Bold** and *Italic* highlights, also you can inclue [links](www.iteso.mx). Usually is a good strategy to generate this text at the very end of the process, since you have to include all aspects of the work, from a brief introduction, to problem definitions and methods used, to finally the results found. </font>"
   ]
  },
  {
   "cell_type": "markdown",
   "metadata": {},
   "source": [
    "<br>"
   ]
  },
  {
   "cell_type": "markdown",
   "metadata": {},
   "source": [
    "# <font color= #6B6B6B> <font size = 6> 1. Introduction </font>"
   ]
  },
  {
   "cell_type": "markdown",
   "metadata": {},
   "source": [
    "<hr style=\"border:0.02in solid gray\"> </hr>"
   ]
  },
  {
   "cell_type": "markdown",
   "metadata": {},
   "source": [
    "This is an introduction, normally, it is done at the very end, when all the other content in the notebook is completed but just before the abstract (which is short version of the introduction) ... "
   ]
  },
  {
   "cell_type": "markdown",
   "metadata": {},
   "source": [
    "<br>"
   ]
  },
  {
   "cell_type": "markdown",
   "metadata": {},
   "source": [
    "# <font color= #6B6B6B> 2. Install/Load Packages and Depedencies </font>"
   ]
  },
  {
   "cell_type": "markdown",
   "metadata": {},
   "source": [
    "<hr style=\"border:0.02in solid gray\"> </hr>"
   ]
  },
  {
   "cell_type": "markdown",
   "metadata": {},
   "source": [
    "## <font color= #6B6B6B> 2.1 Python Packages </font> <font color= #555555>"
   ]
  },
  {
   "cell_type": "markdown",
   "metadata": {},
   "source": [
    "In order to run this notebook, it is necessary to have installed and/or have the _requirements.txt_ file with the following: "
   ]
  },
  {
   "attachments": {},
   "cell_type": "markdown",
   "metadata": {},
   "source": [
    "- MetaTrader5\n",
    "- pandas\n",
    "- scipy\n",
    "- numpy\n",
    "- jupyter\n",
    "- pytz\n",
    "- datetime\n",
    "- yfinance"
   ]
  },
  {
   "cell_type": "markdown",
   "metadata": {},
   "source": [
    "## <font color= #6B6B6B> 2.2 Files Dependencies </font> <font color= #555555>"
   ]
  },
  {
   "cell_type": "markdown",
   "metadata": {},
   "source": [
    "The following are the file dependencies that are needed to run this notebook:"
   ]
  },
  {
   "cell_type": "markdown",
   "metadata": {},
   "source": [
    "- files/precios.csv : Precios históricos\n",
    "- files/datos.txt : Otros datos históricos"
   ]
  },
  {
   "cell_type": "markdown",
   "metadata": {},
   "source": [
    "## <font color= #6E6E6E> 2.3 Install Packages</font>"
   ]
  },
  {
   "cell_type": "code",
   "execution_count": 1,
   "metadata": {},
   "outputs": [],
   "source": [
    "%%capture\n",
    "\n",
    "# Install all the pip packages in the requirements.txt\n",
    "import sys\n",
    "!{sys.executable} -m pip install -r requirements.txt"
   ]
  },
  {
   "cell_type": "markdown",
   "metadata": {},
   "source": [
    "<br>"
   ]
  },
  {
   "attachments": {},
   "cell_type": "markdown",
   "metadata": {},
   "source": [
    "# <font color= #6B6B6B> 3. Datos y validaciones </font>"
   ]
  },
  {
   "cell_type": "markdown",
   "metadata": {},
   "source": [
    "<hr style=\"border:0.02in solid gray\"> </hr>"
   ]
  },
  {
   "attachments": {},
   "cell_type": "markdown",
   "metadata": {},
   "source": [
    "- Capital inicial: $100,000 \n",
    "- Elegir un par de divisas (ej. USDJPN , EURUSD ... ) \n",
    "- Riesgo máximo por operación (pérdida máximo): $1,000 usd\n",
    "- Divide los datos de la siguiente manera:  \n",
    "- Periodo de entrenamiento: 01/ene/2020 - 01/ene/2021\n",
    "- Periodo de prueba: 01/Feb/2021 - 01/Feb/2022"
   ]
  },
  {
   "cell_type": "code",
   "execution_count": 6,
   "metadata": {},
   "outputs": [],
   "source": [
    "# Here you include content from data conceptual, statistical and visual description"
   ]
  },
  {
   "attachments": {},
   "cell_type": "markdown",
   "metadata": {},
   "source": [
    "###  <font color= #6B6B6B> 3.1 Aspectos Financieros </font>\n",
    "\n",
    "- Definir el sistema de trading y sus 4 criterios desde un punto de vista financiero.\n",
    "\n",
    "- Hacer 5 validaciones visuales del algoritmo de decision utilizando estudios técnicos.\n",
    "\n",
    "- Apoyar en aspectos computacionales.\n",
    "\n",
    "- Apoyar en aspectos estadísticos.\n",
    "\n",
    "- Realizar una tabla comparativa de los resultados con 3 MAD que propongas, utilizando los datos de la evolución del capital acumulado, tanto de la configuración de parámetros que se eligió del periodo de entrenamiento, como para los resultados en el periodo de prueba con los parámetros de la configuración elegida del periodo de entrenamiento (con los mismos datos pero en periodos diferentes)."
   ]
  },
  {
   "cell_type": "code",
   "execution_count": 5,
   "metadata": {},
   "outputs": [],
   "source": [
    "# Here you include content from data conceptual, statistical and visual description"
   ]
  },
  {
   "attachments": {},
   "cell_type": "markdown",
   "metadata": {},
   "source": [
    "###  <font color= #6B6B6B> 3.2 Aspectos Estadísticos</font>\n",
    "- Hacer una propuesta al equipo de entre 1 y 3 estudios técnicos.\n",
    "\n",
    "- Hacer propuesta de algoritmo a detalle con uso de datos, para el criterio 2: Generación de señal de compra o de venta.\n",
    "\n",
    "- Incluir definiciones cortas de cada estudio, su fórmula (En LaTeX dentro del notebook).\n",
    "\n",
    "- Hacer 5 validaciones visuales del algoritmo de decision utilizando estudios técnicos.\n",
    "\n",
    "- Apoyar en aspectos computacionales.\n",
    "\n",
    "- Apoyar en aspectos financieros."
   ]
  },
  {
   "cell_type": "code",
   "execution_count": 4,
   "metadata": {},
   "outputs": [],
   "source": [
    "# Here you include content from data conceptual, statistical and visual description"
   ]
  },
  {
   "attachments": {},
   "cell_type": "markdown",
   "metadata": {},
   "source": [
    "###  <font color= #6B6B6B> 3.3 Aspectos Computacionales</font>\n",
    "\n",
    "1.  Función de utilidad:\n",
    "\n",
    "2. Parámetro a optimizar:\n",
    "\n",
    "3. Espacio de búsqueda:\n",
    "\n",
    "4. Tiempo de búsqueda exhaustiva:\n",
    "\n",
    "5. Método de optimización:\n",
    "\n",
    "6. Gráfica de convergencia:\n"
   ]
  },
  {
   "cell_type": "code",
   "execution_count": 3,
   "metadata": {},
   "outputs": [],
   "source": [
    "# Here you include content from data conceptual, statistical and visual description"
   ]
  },
  {
   "attachments": {},
   "cell_type": "markdown",
   "metadata": {},
   "source": [
    "# <font color= #6B6B6B> <font size = 6> 5. Aplicacion las reglas para la toma de decisiones en df_decisiones con los datos de prueba. </font>"
   ]
  },
  {
   "attachments": {},
   "cell_type": "markdown",
   "metadata": {},
   "source": [
    "Con los resultados anteriores que encontraste para los parámetros de la estrategia de trading,  aplica las reglas para la toma de decisiones en df_decisiones con los datos de prueba.\n",
    "\n",
    "- Elige 1 resultado de optimización (Periodo de optimizacion)\n",
    "- Grafica la evolucion de capital en este periodo (Grafica Evolucion de Capital (Linea)) \n",
    "- Imprime los datos calculados en el df_backtest.\n",
    "- Con la misma configuración de parámetros encontrada en el paso anterior, usa los datos del periodo de prueba\n",
    "- Utiliza sus parámetros: Volumen, TakeProfit, StopLoss\n",
    "- Grafica la evlucion de capital en este periodo (Grafica Evolucion de Capital (Linea)) \n",
    "-- Imprime los datos calculados en el df_prueba."
   ]
  },
  {
   "cell_type": "code",
   "execution_count": 7,
   "metadata": {},
   "outputs": [],
   "source": [
    "# Here you include content from data conceptual, statistical and visual description"
   ]
  },
  {
   "cell_type": "markdown",
   "metadata": {},
   "source": [
    "<br>"
   ]
  },
  {
   "attachments": {},
   "cell_type": "markdown",
   "metadata": {},
   "source": [
    "# <font color= #6B6B6B> <font size = 6> 5. Conclusions </font>"
   ]
  },
  {
   "cell_type": "markdown",
   "metadata": {},
   "source": [
    "# <font color= #6B6B6B> <font size = 6> 6. References </font>"
   ]
  },
  {
   "cell_type": "markdown",
   "metadata": {},
   "source": [
    "<hr style=\"border:0.02in solid gray\"> </hr>"
   ]
  },
  {
   "cell_type": "markdown",
   "metadata": {},
   "source": [
    "[1] Munnoz, 2020. Python project template. https://github.com/iffranciscome/python-project. (2021)."
   ]
  },
  {
   "cell_type": "markdown",
   "metadata": {},
   "source": [
    "<br>"
   ]
  }
 ],
 "metadata": {
  "kernelspec": {
   "display_name": "Python 3 (ipykernel)",
   "language": "python",
   "name": "python3"
  },
  "language_info": {
   "codemirror_mode": {
    "name": "ipython",
    "version": 3
   },
   "file_extension": ".py",
   "mimetype": "text/x-python",
   "name": "python",
   "nbconvert_exporter": "python",
   "pygments_lexer": "ipython3",
   "version": "3.11.1"
  }
 },
 "nbformat": 4,
 "nbformat_minor": 4
}
